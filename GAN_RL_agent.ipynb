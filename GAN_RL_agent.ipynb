{
 "cells": [
  {
   "cell_type": "code",
   "execution_count": 1,
   "metadata": {},
   "outputs": [],
   "source": [
    "import pandas as pd\n",
    "import numpy as np\n",
    "from sklearn.linear_model import LogisticRegression\n",
    "from sklearn.ensemble import RandomForestClassifier\n",
    "from sklearn.neural_network import MLPClassifier\n",
    "from sklearn.svm import SVC\n",
    "from sklearn import preprocessing\n",
    "import matplotlib.pyplot as plt\n",
    "from sklearn import svm\n",
    "from sklearn.metrics import classification_report\n",
    "from sklearn.metrics import confusion_matrix\n",
    "from sklearn.metrics import accuracy_score\n",
    "from sklearn import tree\n",
    "import seaborn as sns\n",
    "import warnings\n",
    "warnings.filterwarnings(\"ignore\")\n",
    "from sklearn.model_selection import train_test_split\n",
    "from sklearn.metrics import accuracy_score, recall_score, precision_score\n",
    "from utils import  plot_corrs, plot_bars\n",
    "np.random.seed(123)\n",
    "\n",
    "\n",
    "import gym\n",
    "from gym import spaces\n"
   ]
  },
  {
   "cell_type": "code",
   "execution_count": 2,
   "metadata": {},
   "outputs": [],
   "source": [
    "from tensorflow.keras.datasets import mnist\n",
    "from tensorflow.keras.layers import Input, Dense, Reshape, Flatten, Dropout\n",
    "from tensorflow.keras.layers import BatchNormalization, Activation, ZeroPadding2D\n",
    "from tensorflow.keras.layers import LeakyReLU\n",
    "from tensorflow.keras.layers import UpSampling2D, Conv2D\n",
    "from tensorflow.keras.models import Sequential, Model\n",
    "from tensorflow.keras.optimizers import Adam\n",
    "from tensorflow.keras import initializers\n",
    "\n",
    "from collections import deque\n",
    "import tensorflow as tf\n",
    "import random\n",
    "\n",
    "import matplotlib.pyplot as plt\n",
    "\n",
    "import sys\n",
    "\n",
    "import numpy as np\n",
    "import tqdm"
   ]
  },
  {
   "cell_type": "code",
   "execution_count": 3,
   "metadata": {},
   "outputs": [],
   "source": [
    "fname = ['W2_2019-11-19_09-59-25.csv', 'WIN_20200123_12_48_24_Pro.csv', 'WIN_20200129_14_38_54_Pro.csv',\n",
    "         'WIN_20200129_14_56_13_Pro.csv', 'WIN_20200129_15_10_31_Pro.csv', 'WIN_20200301_20_18_27_Pro.csv',\n",
    "         'WIN_20200320_18_43_50_Pro.csv']\n",
    "         \n",
    "df = pd.read_csv(fname[0])\n",
    "df2 = pd.read_csv(fname[1])\n",
    "df = df.append(df2)\n",
    "df2 = pd.read_csv(fname[2])\n",
    "df = df.append(df2)\n",
    "df2 = pd.read_csv(fname[3])\n",
    "df = df.append(df2)\n",
    "df2 = pd.read_csv(fname[4])\n",
    "df = df.append(df2)\n",
    "df_test = pd.read_csv(fname[5])\n",
    "feature_cols = ['Neutrality', 'Happy','Surprise','Fear', 'Disgust', 'Anger', 'Sadness', 'label']"
   ]
  },
  {
   "cell_type": "code",
   "execution_count": 4,
   "metadata": {},
   "outputs": [],
   "source": [
    "df = df[df['label'] != 'Null']\n",
    "df_test = df_test[df_test['label'] != 'Null']"
   ]
  },
  {
   "cell_type": "code",
   "execution_count": 5,
   "metadata": {},
   "outputs": [],
   "source": [
    "df = df[df['label'] != 'Neutral']\n",
    "df_test = df_test[df_test['label'] != 'Neutral']"
   ]
  },
  {
   "cell_type": "code",
   "execution_count": 6,
   "metadata": {},
   "outputs": [],
   "source": [
    "df.loc[df.label == 'Dissonance', 'label'] = 0.0\n",
    "df.loc[df.label == 'True', 'label'] = 1.0\n"
   ]
  },
  {
   "cell_type": "code",
   "execution_count": 7,
   "metadata": {},
   "outputs": [
    {
     "data": {
      "text/html": [
       "<div>\n",
       "<style scoped>\n",
       "    .dataframe tbody tr th:only-of-type {\n",
       "        vertical-align: middle;\n",
       "    }\n",
       "\n",
       "    .dataframe tbody tr th {\n",
       "        vertical-align: top;\n",
       "    }\n",
       "\n",
       "    .dataframe thead th {\n",
       "        text-align: right;\n",
       "    }\n",
       "</style>\n",
       "<table border=\"1\" class=\"dataframe\">\n",
       "  <thead>\n",
       "    <tr style=\"text-align: right;\">\n",
       "      <th></th>\n",
       "      <th>ID</th>\n",
       "      <th>TimeStamp</th>\n",
       "      <th>Neutrality</th>\n",
       "      <th>Happy</th>\n",
       "      <th>Surprise</th>\n",
       "      <th>Fear</th>\n",
       "      <th>Disgust</th>\n",
       "      <th>Anger</th>\n",
       "      <th>Sadness</th>\n",
       "      <th>Positive Sentiment</th>\n",
       "      <th>Negative Sentiment</th>\n",
       "      <th>Experience</th>\n",
       "      <th>Activation</th>\n",
       "      <th>Emotional Score</th>\n",
       "      <th>Subemotion</th>\n",
       "      <th>Start_t</th>\n",
       "      <th>End_t</th>\n",
       "      <th>Question</th>\n",
       "      <th>label</th>\n",
       "    </tr>\n",
       "  </thead>\n",
       "  <tbody>\n",
       "    <tr>\n",
       "      <th>19232</th>\n",
       "      <td>1585841615927</td>\n",
       "      <td>00:10:46.600557</td>\n",
       "      <td>0.788</td>\n",
       "      <td>0.091</td>\n",
       "      <td>0.001</td>\n",
       "      <td>0.001</td>\n",
       "      <td>0.006</td>\n",
       "      <td>0.004</td>\n",
       "      <td>0.110</td>\n",
       "      <td>0.091</td>\n",
       "      <td>0.121</td>\n",
       "      <td>-0.029</td>\n",
       "      <td>0.212</td>\n",
       "      <td>0.431</td>\n",
       "      <td>NaN</td>\n",
       "      <td>00:10:44</td>\n",
       "      <td>00:10:47</td>\n",
       "      <td>one of the worst things a person could do is h...</td>\n",
       "      <td>1</td>\n",
       "    </tr>\n",
       "    <tr>\n",
       "      <th>8038</th>\n",
       "      <td>1585841615927</td>\n",
       "      <td>00:04:30.240208</td>\n",
       "      <td>0.724</td>\n",
       "      <td>0.212</td>\n",
       "      <td>0.002</td>\n",
       "      <td>0.001</td>\n",
       "      <td>0.004</td>\n",
       "      <td>0.013</td>\n",
       "      <td>0.044</td>\n",
       "      <td>0.214</td>\n",
       "      <td>0.062</td>\n",
       "      <td>0.151</td>\n",
       "      <td>0.276</td>\n",
       "      <td>0.774</td>\n",
       "      <td>Agrado</td>\n",
       "      <td>00:04:28</td>\n",
       "      <td>00:04:32</td>\n",
       "      <td>one of the worst things a person could do is h...</td>\n",
       "      <td>0</td>\n",
       "    </tr>\n",
       "    <tr>\n",
       "      <th>10018</th>\n",
       "      <td>1585841615927</td>\n",
       "      <td>00:05:36.300777</td>\n",
       "      <td>0.923</td>\n",
       "      <td>0.034</td>\n",
       "      <td>0.001</td>\n",
       "      <td>0.000</td>\n",
       "      <td>0.002</td>\n",
       "      <td>0.003</td>\n",
       "      <td>0.037</td>\n",
       "      <td>0.034</td>\n",
       "      <td>0.043</td>\n",
       "      <td>-0.009</td>\n",
       "      <td>0.077</td>\n",
       "      <td>0.444</td>\n",
       "      <td>Agrado</td>\n",
       "      <td>00:05:33</td>\n",
       "      <td>00:05:42</td>\n",
       "      <td>participant</td>\n",
       "      <td>0</td>\n",
       "    </tr>\n",
       "    <tr>\n",
       "      <th>18930</th>\n",
       "      <td>1585841615927</td>\n",
       "      <td>00:10:36.600403</td>\n",
       "      <td>0.902</td>\n",
       "      <td>0.030</td>\n",
       "      <td>0.003</td>\n",
       "      <td>0.001</td>\n",
       "      <td>0.008</td>\n",
       "      <td>0.028</td>\n",
       "      <td>0.029</td>\n",
       "      <td>0.032</td>\n",
       "      <td>0.065</td>\n",
       "      <td>-0.033</td>\n",
       "      <td>0.098</td>\n",
       "      <td>0.331</td>\n",
       "      <td>Agrado</td>\n",
       "      <td>00:10:32</td>\n",
       "      <td>00:10:38</td>\n",
       "      <td>participant</td>\n",
       "      <td>1</td>\n",
       "    </tr>\n",
       "  </tbody>\n",
       "</table>\n",
       "</div>"
      ],
      "text/plain": [
       "                  ID        TimeStamp  Neutrality  Happy  Surprise   Fear  \\\n",
       "19232  1585841615927  00:10:46.600557       0.788  0.091     0.001  0.001   \n",
       "8038   1585841615927  00:04:30.240208       0.724  0.212     0.002  0.001   \n",
       "10018  1585841615927  00:05:36.300777       0.923  0.034     0.001  0.000   \n",
       "18930  1585841615927  00:10:36.600403       0.902  0.030     0.003  0.001   \n",
       "\n",
       "       Disgust  Anger  Sadness  Positive Sentiment  Negative Sentiment  \\\n",
       "19232    0.006  0.004    0.110               0.091               0.121   \n",
       "8038     0.004  0.013    0.044               0.214               0.062   \n",
       "10018    0.002  0.003    0.037               0.034               0.043   \n",
       "18930    0.008  0.028    0.029               0.032               0.065   \n",
       "\n",
       "       Experience  Activation  Emotional Score Subemotion   Start_t     End_t  \\\n",
       "19232      -0.029       0.212            0.431        NaN  00:10:44  00:10:47   \n",
       "8038        0.151       0.276            0.774     Agrado  00:04:28  00:04:32   \n",
       "10018      -0.009       0.077            0.444     Agrado  00:05:33  00:05:42   \n",
       "18930      -0.033       0.098            0.331     Agrado  00:10:32  00:10:38   \n",
       "\n",
       "                                                Question label  \n",
       "19232  one of the worst things a person could do is h...     1  \n",
       "8038   one of the worst things a person could do is h...     0  \n",
       "10018                                        participant     0  \n",
       "18930                                        participant     1  "
      ]
     },
     "execution_count": 7,
     "metadata": {},
     "output_type": "execute_result"
    }
   ],
   "source": [
    "df.sample(4)"
   ]
  },
  {
   "cell_type": "code",
   "execution_count": 8,
   "metadata": {},
   "outputs": [],
   "source": [
    "X = np.array(df.loc[:, feature_cols]).astype(np.float32)\n"
   ]
  },
  {
   "cell_type": "code",
   "execution_count": 9,
   "metadata": {},
   "outputs": [],
   "source": [
    "# Set the seed for reproducible result\n",
    "np.random.seed(1000)\n",
    "\n",
    "randomDim = 3 "
   ]
  },
  {
   "cell_type": "code",
   "execution_count": 10,
   "metadata": {},
   "outputs": [],
   "source": [
    "# Optimizer\n",
    "adam = Adam(lr=0.0002, beta_1=0.5)\n",
    "\n",
    "generator = Sequential()\n",
    "generator.add(Dense(4, input_dim=randomDim)) #, kernel_initializer=initializers.RandomNormal(stddev=0.02)))\n",
    "generator.add(LeakyReLU(0.2))\n",
    "generator.add(Dense(8, activation='sigmoid'))\n",
    "#generator.compile(loss='binary_crossentropy', optimizer=adam)\n",
    "\n"
   ]
  },
  {
   "cell_type": "code",
   "execution_count": 11,
   "metadata": {},
   "outputs": [],
   "source": [
    "discriminator = Sequential()\n",
    "discriminator.add(Dense(16, input_dim=8, kernel_initializer=initializers.RandomNormal(stddev=0.02)))\n",
    "discriminator.add(LeakyReLU(0.2))\n",
    "discriminator.add(Dropout(0.3))\n",
    "discriminator.add(Dense(1, activation='sigmoid'))\n",
    "discriminator.compile(loss='binary_crossentropy', optimizer=adam)"
   ]
  },
  {
   "cell_type": "code",
   "execution_count": 12,
   "metadata": {},
   "outputs": [],
   "source": [
    "# Combined network\n",
    "discriminator.trainable = False\n",
    "ganInput = Input(shape=(randomDim,))\n",
    "x = generator(ganInput)\n",
    "ganOutput = discriminator(x)\n",
    "gan = Model(inputs=ganInput, outputs=ganOutput)\n",
    "gan.compile(loss='binary_crossentropy', optimizer=adam)\n",
    "\n",
    "dLosses = []\n",
    "gLosses = []"
   ]
  },
  {
   "cell_type": "code",
   "execution_count": 13,
   "metadata": {},
   "outputs": [],
   "source": [
    "# Plot the loss from each batch\n",
    "def plotLoss(epoch):\n",
    "    plt.figure(figsize=(10, 8))\n",
    "    plt.plot(dLosses, label='Discriminitive loss')\n",
    "    plt.plot(gLosses, label='Generative loss')\n",
    "    plt.xlabel('Epoch')\n",
    "    plt.ylabel('Loss')\n",
    "    plt.legend()\n",
    "    "
   ]
  },
  {
   "cell_type": "code",
   "execution_count": 14,
   "metadata": {},
   "outputs": [],
   "source": [
    "def train(X_train, epochs=1, batchSize=128):\n",
    "    batchCount = int(X_train.shape[0] / batchSize)\n",
    "    print ('Epochs:', epochs)\n",
    "    print ('Batch size:', batchSize)\n",
    "    print ('Batches per epoch:', batchCount)\n",
    "\n",
    "    for e in range(1, epochs+1):\n",
    "        print ('-'*15, 'Epoch %d' % e, '-'*15)\n",
    "        for _ in range(batchCount):\n",
    "            # Get a random set of input noise and images\n",
    "            noise = np.random.normal(0, 1, size=[batchSize, randomDim])\n",
    "            imageBatch = X_train[np.random.randint(0, X_train.shape[0], size=batchSize)]\n",
    "\n",
    "            # Generate fake MNIST images\n",
    "            generatedImages = generator.predict(noise)\n",
    "            #print (np.shape(imageBatch), np.shape(generatedImages))\n",
    "            X = np.concatenate([imageBatch, generatedImages])\n",
    "            #print(X)\n",
    "\n",
    "            # Labels for generated and real data\n",
    "            yDis = np.zeros(2*batchSize)\n",
    "            # One-sided label smoothing\n",
    "            yDis[:batchSize] = 0.9\n",
    "\n",
    "            # Train discriminator\n",
    "            discriminator.trainable = True\n",
    "            #print(X,yDis, isinstance(X[0], list))\n",
    "            dloss = discriminator.train_on_batch(X, yDis)\n",
    "\n",
    "            # Train generator\n",
    "            noise = np.random.normal(0, 1, size=[batchSize, randomDim])\n",
    "            yGen = np.ones(batchSize)\n",
    "            discriminator.trainable = False\n",
    "            gloss = gan.train_on_batch(noise, yGen)\n",
    "\n",
    "        # Store loss of most recent batch from this epoch\n",
    "        dLosses.append(dloss)\n",
    "        gLosses.append(gloss)\n",
    "\n",
    "        #if e == 1 or e % 20 == 0:\n",
    "         #   saveGeneratedImages(e)\n",
    "            \n",
    "\n",
    "    # Plot losses from every epoch\n",
    "    plotLoss(e)"
   ]
  },
  {
   "cell_type": "code",
   "execution_count": 15,
   "metadata": {},
   "outputs": [
    {
     "data": {
      "text/plain": [
       "array([[0.385, 0.541, 0.005, ..., 0.004, 0.061, 0.   ],\n",
       "       [0.34 , 0.6  , 0.005, ..., 0.004, 0.047, 0.   ],\n",
       "       [0.395, 0.531, 0.006, ..., 0.005, 0.056, 0.   ],\n",
       "       ...,\n",
       "       [0.001, 0.999, 0.   , ..., 0.   , 0.   , 1.   ],\n",
       "       [0.001, 0.999, 0.   , ..., 0.   , 0.   , 1.   ],\n",
       "       [0.001, 0.999, 0.   , ..., 0.   , 0.   , 1.   ]], dtype=float32)"
      ]
     },
     "execution_count": 15,
     "metadata": {},
     "output_type": "execute_result"
    }
   ],
   "source": [
    "X"
   ]
  },
  {
   "cell_type": "code",
   "execution_count": 16,
   "metadata": {},
   "outputs": [
    {
     "name": "stdout",
     "output_type": "stream",
     "text": [
      "Epochs: 200\n",
      "Batch size: 125\n",
      "Batches per epoch: 662\n",
      "--------------- Epoch 1 ---------------\n",
      "--------------- Epoch 2 ---------------\n",
      "--------------- Epoch 3 ---------------\n",
      "--------------- Epoch 4 ---------------\n",
      "--------------- Epoch 5 ---------------\n",
      "--------------- Epoch 6 ---------------\n",
      "--------------- Epoch 7 ---------------\n",
      "--------------- Epoch 8 ---------------\n",
      "--------------- Epoch 9 ---------------\n",
      "--------------- Epoch 10 ---------------\n",
      "--------------- Epoch 11 ---------------\n",
      "--------------- Epoch 12 ---------------\n",
      "--------------- Epoch 13 ---------------\n",
      "--------------- Epoch 14 ---------------\n",
      "--------------- Epoch 15 ---------------\n",
      "--------------- Epoch 16 ---------------\n",
      "--------------- Epoch 17 ---------------\n",
      "--------------- Epoch 18 ---------------\n",
      "--------------- Epoch 19 ---------------\n",
      "--------------- Epoch 20 ---------------\n",
      "--------------- Epoch 21 ---------------\n",
      "--------------- Epoch 22 ---------------\n",
      "--------------- Epoch 23 ---------------\n",
      "--------------- Epoch 24 ---------------\n",
      "--------------- Epoch 25 ---------------\n",
      "--------------- Epoch 26 ---------------\n",
      "--------------- Epoch 27 ---------------\n",
      "--------------- Epoch 28 ---------------\n",
      "--------------- Epoch 29 ---------------\n",
      "--------------- Epoch 30 ---------------\n",
      "--------------- Epoch 31 ---------------\n",
      "--------------- Epoch 32 ---------------\n",
      "--------------- Epoch 33 ---------------\n",
      "--------------- Epoch 34 ---------------\n",
      "--------------- Epoch 35 ---------------\n",
      "--------------- Epoch 36 ---------------\n",
      "--------------- Epoch 37 ---------------\n",
      "--------------- Epoch 38 ---------------\n",
      "--------------- Epoch 39 ---------------\n",
      "--------------- Epoch 40 ---------------\n",
      "--------------- Epoch 41 ---------------\n",
      "--------------- Epoch 42 ---------------\n",
      "--------------- Epoch 43 ---------------\n",
      "--------------- Epoch 44 ---------------\n",
      "--------------- Epoch 45 ---------------\n",
      "--------------- Epoch 46 ---------------\n",
      "--------------- Epoch 47 ---------------\n",
      "--------------- Epoch 48 ---------------\n",
      "--------------- Epoch 49 ---------------\n",
      "--------------- Epoch 50 ---------------\n",
      "--------------- Epoch 51 ---------------\n",
      "--------------- Epoch 52 ---------------\n",
      "--------------- Epoch 53 ---------------\n",
      "--------------- Epoch 54 ---------------\n",
      "--------------- Epoch 55 ---------------\n",
      "--------------- Epoch 56 ---------------\n",
      "--------------- Epoch 57 ---------------\n",
      "--------------- Epoch 58 ---------------\n",
      "--------------- Epoch 59 ---------------\n",
      "--------------- Epoch 60 ---------------\n",
      "--------------- Epoch 61 ---------------\n",
      "--------------- Epoch 62 ---------------\n",
      "--------------- Epoch 63 ---------------\n",
      "--------------- Epoch 64 ---------------\n",
      "--------------- Epoch 65 ---------------\n",
      "--------------- Epoch 66 ---------------\n",
      "--------------- Epoch 67 ---------------\n",
      "--------------- Epoch 68 ---------------\n",
      "--------------- Epoch 69 ---------------\n",
      "--------------- Epoch 70 ---------------\n",
      "--------------- Epoch 71 ---------------\n",
      "--------------- Epoch 72 ---------------\n",
      "--------------- Epoch 73 ---------------\n",
      "--------------- Epoch 74 ---------------\n",
      "--------------- Epoch 75 ---------------\n",
      "--------------- Epoch 76 ---------------\n",
      "--------------- Epoch 77 ---------------\n",
      "--------------- Epoch 78 ---------------\n",
      "--------------- Epoch 79 ---------------\n",
      "--------------- Epoch 80 ---------------\n",
      "--------------- Epoch 81 ---------------\n",
      "--------------- Epoch 82 ---------------\n",
      "--------------- Epoch 83 ---------------\n",
      "--------------- Epoch 84 ---------------\n",
      "--------------- Epoch 85 ---------------\n",
      "--------------- Epoch 86 ---------------\n",
      "--------------- Epoch 87 ---------------\n",
      "--------------- Epoch 88 ---------------\n",
      "--------------- Epoch 89 ---------------\n",
      "--------------- Epoch 90 ---------------\n",
      "--------------- Epoch 91 ---------------\n",
      "--------------- Epoch 92 ---------------\n",
      "--------------- Epoch 93 ---------------\n",
      "--------------- Epoch 94 ---------------\n",
      "--------------- Epoch 95 ---------------\n",
      "--------------- Epoch 96 ---------------\n",
      "--------------- Epoch 97 ---------------\n",
      "--------------- Epoch 98 ---------------\n",
      "--------------- Epoch 99 ---------------\n",
      "--------------- Epoch 100 ---------------\n",
      "--------------- Epoch 101 ---------------\n",
      "--------------- Epoch 102 ---------------\n",
      "--------------- Epoch 103 ---------------\n",
      "--------------- Epoch 104 ---------------\n",
      "--------------- Epoch 105 ---------------\n",
      "--------------- Epoch 106 ---------------\n",
      "--------------- Epoch 107 ---------------\n",
      "--------------- Epoch 108 ---------------\n",
      "--------------- Epoch 109 ---------------\n",
      "--------------- Epoch 110 ---------------\n",
      "--------------- Epoch 111 ---------------\n",
      "--------------- Epoch 112 ---------------\n",
      "--------------- Epoch 113 ---------------\n",
      "--------------- Epoch 114 ---------------\n",
      "--------------- Epoch 115 ---------------\n",
      "--------------- Epoch 116 ---------------\n",
      "--------------- Epoch 117 ---------------\n",
      "--------------- Epoch 118 ---------------\n",
      "--------------- Epoch 119 ---------------\n",
      "--------------- Epoch 120 ---------------\n",
      "--------------- Epoch 121 ---------------\n",
      "--------------- Epoch 122 ---------------\n",
      "--------------- Epoch 123 ---------------\n",
      "--------------- Epoch 124 ---------------\n",
      "--------------- Epoch 125 ---------------\n",
      "--------------- Epoch 126 ---------------\n",
      "--------------- Epoch 127 ---------------\n",
      "--------------- Epoch 128 ---------------\n",
      "--------------- Epoch 129 ---------------\n",
      "--------------- Epoch 130 ---------------\n",
      "--------------- Epoch 131 ---------------\n",
      "--------------- Epoch 132 ---------------\n",
      "--------------- Epoch 133 ---------------\n",
      "--------------- Epoch 134 ---------------\n",
      "--------------- Epoch 135 ---------------\n",
      "--------------- Epoch 136 ---------------\n",
      "--------------- Epoch 137 ---------------\n",
      "--------------- Epoch 138 ---------------\n",
      "--------------- Epoch 139 ---------------\n",
      "--------------- Epoch 140 ---------------\n",
      "--------------- Epoch 141 ---------------\n",
      "--------------- Epoch 142 ---------------\n",
      "--------------- Epoch 143 ---------------\n",
      "--------------- Epoch 144 ---------------\n",
      "--------------- Epoch 145 ---------------\n",
      "--------------- Epoch 146 ---------------\n",
      "--------------- Epoch 147 ---------------\n",
      "--------------- Epoch 148 ---------------\n",
      "--------------- Epoch 149 ---------------\n",
      "--------------- Epoch 150 ---------------\n",
      "--------------- Epoch 151 ---------------\n",
      "--------------- Epoch 152 ---------------\n",
      "--------------- Epoch 153 ---------------\n",
      "--------------- Epoch 154 ---------------\n",
      "--------------- Epoch 155 ---------------\n",
      "--------------- Epoch 156 ---------------\n",
      "--------------- Epoch 157 ---------------\n",
      "--------------- Epoch 158 ---------------\n",
      "--------------- Epoch 159 ---------------\n",
      "--------------- Epoch 160 ---------------\n",
      "--------------- Epoch 161 ---------------\n",
      "--------------- Epoch 162 ---------------\n",
      "--------------- Epoch 163 ---------------\n",
      "--------------- Epoch 164 ---------------\n",
      "--------------- Epoch 165 ---------------\n",
      "--------------- Epoch 166 ---------------\n",
      "--------------- Epoch 167 ---------------\n",
      "--------------- Epoch 168 ---------------\n",
      "--------------- Epoch 169 ---------------\n",
      "--------------- Epoch 170 ---------------\n",
      "--------------- Epoch 171 ---------------\n",
      "--------------- Epoch 172 ---------------\n",
      "--------------- Epoch 173 ---------------\n",
      "--------------- Epoch 174 ---------------\n",
      "--------------- Epoch 175 ---------------\n",
      "--------------- Epoch 176 ---------------\n",
      "--------------- Epoch 177 ---------------\n",
      "--------------- Epoch 178 ---------------\n",
      "--------------- Epoch 179 ---------------\n",
      "--------------- Epoch 180 ---------------\n",
      "--------------- Epoch 181 ---------------\n",
      "--------------- Epoch 182 ---------------\n",
      "--------------- Epoch 183 ---------------\n",
      "--------------- Epoch 184 ---------------\n",
      "--------------- Epoch 185 ---------------\n",
      "--------------- Epoch 186 ---------------\n",
      "--------------- Epoch 187 ---------------\n",
      "--------------- Epoch 188 ---------------\n",
      "--------------- Epoch 189 ---------------\n",
      "--------------- Epoch 190 ---------------\n",
      "--------------- Epoch 191 ---------------\n",
      "--------------- Epoch 192 ---------------\n",
      "--------------- Epoch 193 ---------------\n",
      "--------------- Epoch 194 ---------------\n",
      "--------------- Epoch 195 ---------------\n",
      "--------------- Epoch 196 ---------------\n",
      "--------------- Epoch 197 ---------------\n"
     ]
    },
    {
     "name": "stdout",
     "output_type": "stream",
     "text": [
      "--------------- Epoch 198 ---------------\n",
      "--------------- Epoch 199 ---------------\n",
      "--------------- Epoch 200 ---------------\n"
     ]
    },
    {
     "data": {
      "image/png": "[encoded data removed]",
      "text/plain": [
       "<Figure size 720x576 with 1 Axes>"
      ]
     },
     "metadata": {
      "needs_background": "light"
     },
     "output_type": "display_data"
    }
   ],
   "source": [
    "train(X, 200, 125)"
   ]
  },
  {
   "cell_type": "code",
   "execution_count": 17,
   "metadata": {},
   "outputs": [],
   "source": [
    "X1 = df.loc[:, feature_cols[:-1]]\n",
    "y1 = df.label\n",
    "\n",
    "#X_test = df_test.loc[:, feature_cols[:-1]]\n",
    "#y_test = df_test.label\n",
    "le = preprocessing.LabelEncoder()\n",
    "le.fit(list(set(df.label.values)))\n",
    "\n",
    "y1 = le.transform(y1)\n",
    "#y_test = le.transform(y_test)\n",
    "\n",
    "#X_train, y_train = X, y\n",
    "\n",
    "X_train, X_test, y_train, y_test = train_test_split(X1, y1, random_state=1)\n",
    "\n",
    "model = RandomForestClassifier() #svm.SVC(gamma=0.001)\n",
    "model.fit(X_train, y_train)\n",
    "predictions = model.predict(X_test)"
   ]
  },
  {
   "cell_type": "code",
   "execution_count": 18,
   "metadata": {},
   "outputs": [
    {
     "data": {
      "text/html": [
       "<div>\n",
       "<style scoped>\n",
       "    .dataframe tbody tr th:only-of-type {\n",
       "        vertical-align: middle;\n",
       "    }\n",
       "\n",
       "    .dataframe tbody tr th {\n",
       "        vertical-align: top;\n",
       "    }\n",
       "\n",
       "    .dataframe thead th {\n",
       "        text-align: right;\n",
       "    }\n",
       "</style>\n",
       "<table border=\"1\" class=\"dataframe\">\n",
       "  <thead>\n",
       "    <tr style=\"text-align: right;\">\n",
       "      <th></th>\n",
       "      <th>Neutrality</th>\n",
       "      <th>Happy</th>\n",
       "      <th>Surprise</th>\n",
       "      <th>Fear</th>\n",
       "      <th>Disgust</th>\n",
       "      <th>Anger</th>\n",
       "      <th>Sadness</th>\n",
       "    </tr>\n",
       "  </thead>\n",
       "  <tbody>\n",
       "    <tr>\n",
       "      <th>14743</th>\n",
       "      <td>0.892</td>\n",
       "      <td>0.012</td>\n",
       "      <td>0.011</td>\n",
       "      <td>0.002</td>\n",
       "      <td>0.009</td>\n",
       "      <td>0.023</td>\n",
       "      <td>0.052</td>\n",
       "    </tr>\n",
       "    <tr>\n",
       "      <th>19699</th>\n",
       "      <td>0.472</td>\n",
       "      <td>0.497</td>\n",
       "      <td>0.002</td>\n",
       "      <td>0.001</td>\n",
       "      <td>0.004</td>\n",
       "      <td>0.004</td>\n",
       "      <td>0.021</td>\n",
       "    </tr>\n",
       "    <tr>\n",
       "      <th>22859</th>\n",
       "      <td>0.952</td>\n",
       "      <td>0.002</td>\n",
       "      <td>0.005</td>\n",
       "      <td>0.000</td>\n",
       "      <td>0.003</td>\n",
       "      <td>0.003</td>\n",
       "      <td>0.035</td>\n",
       "    </tr>\n",
       "    <tr>\n",
       "      <th>8196</th>\n",
       "      <td>0.372</td>\n",
       "      <td>0.594</td>\n",
       "      <td>0.009</td>\n",
       "      <td>0.002</td>\n",
       "      <td>0.001</td>\n",
       "      <td>0.003</td>\n",
       "      <td>0.020</td>\n",
       "    </tr>\n",
       "    <tr>\n",
       "      <th>9926</th>\n",
       "      <td>0.013</td>\n",
       "      <td>0.985</td>\n",
       "      <td>0.002</td>\n",
       "      <td>0.000</td>\n",
       "      <td>0.000</td>\n",
       "      <td>0.000</td>\n",
       "      <td>0.001</td>\n",
       "    </tr>\n",
       "    <tr>\n",
       "      <th>...</th>\n",
       "      <td>...</td>\n",
       "      <td>...</td>\n",
       "      <td>...</td>\n",
       "      <td>...</td>\n",
       "      <td>...</td>\n",
       "      <td>...</td>\n",
       "      <td>...</td>\n",
       "    </tr>\n",
       "    <tr>\n",
       "      <th>13909</th>\n",
       "      <td>0.921</td>\n",
       "      <td>0.045</td>\n",
       "      <td>0.003</td>\n",
       "      <td>0.001</td>\n",
       "      <td>0.002</td>\n",
       "      <td>0.004</td>\n",
       "      <td>0.025</td>\n",
       "    </tr>\n",
       "    <tr>\n",
       "      <th>20669</th>\n",
       "      <td>0.531</td>\n",
       "      <td>0.406</td>\n",
       "      <td>0.005</td>\n",
       "      <td>0.002</td>\n",
       "      <td>0.008</td>\n",
       "      <td>0.007</td>\n",
       "      <td>0.041</td>\n",
       "    </tr>\n",
       "    <tr>\n",
       "      <th>5933</th>\n",
       "      <td>0.833</td>\n",
       "      <td>0.018</td>\n",
       "      <td>0.006</td>\n",
       "      <td>0.003</td>\n",
       "      <td>0.005</td>\n",
       "      <td>0.024</td>\n",
       "      <td>0.112</td>\n",
       "    </tr>\n",
       "    <tr>\n",
       "      <th>19641</th>\n",
       "      <td>0.900</td>\n",
       "      <td>0.023</td>\n",
       "      <td>0.003</td>\n",
       "      <td>0.001</td>\n",
       "      <td>0.003</td>\n",
       "      <td>0.005</td>\n",
       "      <td>0.066</td>\n",
       "    </tr>\n",
       "    <tr>\n",
       "      <th>9765</th>\n",
       "      <td>0.828</td>\n",
       "      <td>0.110</td>\n",
       "      <td>0.006</td>\n",
       "      <td>0.001</td>\n",
       "      <td>0.004</td>\n",
       "      <td>0.005</td>\n",
       "      <td>0.046</td>\n",
       "    </tr>\n",
       "  </tbody>\n",
       "</table>\n",
       "<p>20707 rows × 7 columns</p>\n",
       "</div>"
      ],
      "text/plain": [
       "       Neutrality  Happy  Surprise   Fear  Disgust  Anger  Sadness\n",
       "14743       0.892  0.012     0.011  0.002    0.009  0.023    0.052\n",
       "19699       0.472  0.497     0.002  0.001    0.004  0.004    0.021\n",
       "22859       0.952  0.002     0.005  0.000    0.003  0.003    0.035\n",
       "8196        0.372  0.594     0.009  0.002    0.001  0.003    0.020\n",
       "9926        0.013  0.985     0.002  0.000    0.000  0.000    0.001\n",
       "...           ...    ...       ...    ...      ...    ...      ...\n",
       "13909       0.921  0.045     0.003  0.001    0.002  0.004    0.025\n",
       "20669       0.531  0.406     0.005  0.002    0.008  0.007    0.041\n",
       "5933        0.833  0.018     0.006  0.003    0.005  0.024    0.112\n",
       "19641       0.900  0.023     0.003  0.001    0.003  0.005    0.066\n",
       "9765        0.828  0.110     0.006  0.001    0.004  0.005    0.046\n",
       "\n",
       "[20707 rows x 7 columns]"
      ]
     },
     "execution_count": 18,
     "metadata": {},
     "output_type": "execute_result"
    }
   ],
   "source": [
    "X_test"
   ]
  },
  {
   "cell_type": "code",
   "execution_count": 19,
   "metadata": {},
   "outputs": [
    {
     "name": "stdout",
     "output_type": "stream",
     "text": [
      "(1, 7)\n"
     ]
    },
    {
     "data": {
      "text/plain": [
       "array([1])"
      ]
     },
     "execution_count": 19,
     "metadata": {},
     "output_type": "execute_result"
    }
   ],
   "source": [
    "noise = np.random.normal(0, 1, size=[1, randomDim])\n",
    "obs = generator.predict(noise)\n",
    "print(obs[:, :-1].shape)\n",
    "model.predict(obs[:, :-1])"
   ]
  },
  {
   "cell_type": "code",
   "execution_count": 20,
   "metadata": {},
   "outputs": [
    {
     "data": {
      "text/plain": [
       "array([ True])"
      ]
     },
     "execution_count": 20,
     "metadata": {},
     "output_type": "execute_result"
    }
   ],
   "source": [
    "obs[:,-1] > 0.7"
   ]
  },
  {
   "cell_type": "markdown",
   "metadata": {},
   "source": [
    "### RL Agent"
   ]
  },
  {
   "cell_type": "code",
   "execution_count": 21,
   "metadata": {},
   "outputs": [],
   "source": [
    "class CustomEnv(gym.Env):\n",
    "    \"\"\"Custom Environment that follows gym interface\"\"\"\n",
    "    def __init__(self):\n",
    "        super(CustomEnv, self).__init__()    # Define action and observation space\n",
    "        # They must be gym.spaces objects    # Example when using discrete actions:\n",
    "        self.action_space = spaces.Discrete(2)    # Example for using image as input:\n",
    "        self.observation_space = spaces.Box(low=0, high=1, shape=\n",
    "                    (1, 8), dtype=np.float64)\n",
    "        self.observation = np.zeros((1,8), dtype=np.float64)\n",
    "\n",
    "    def step(self, action):\n",
    "        # Execute one time step within the environment\n",
    "        self.current_step += 1\n",
    "        thresh = 0.6\n",
    "        obs = self.observation\n",
    "        #print(obs)\n",
    "        label = obs[:,-1] > thresh\n",
    "        pred = model.predict(obs[:, :-1]) > thresh\n",
    "        #print(pred, action)\n",
    "        reward = 1 if pred == action else 0\n",
    "        done = self.current_step == 100  \n",
    "        obs = generator.predict(noise) \n",
    "        return obs, reward, done, {}\n",
    "    \n",
    "    \n",
    "    def reset(self):\n",
    "        # Reset the state of the environment to an initial state\n",
    "        noise = np.random.normal(0, 1, size=[1, randomDim])\n",
    "        obs = generator.predict(noise)\n",
    "        self.current_step = 0\n",
    "        return obs\n",
    "  "
   ]
  },
  {
   "cell_type": "code",
   "execution_count": 22,
   "metadata": {},
   "outputs": [],
   "source": [
    "\n",
    "class DQN():\n",
    "    def __init__(self, batch_size=64):\n",
    "        self.memory = deque(maxlen=5000)\n",
    "        self.env = CustomEnv()\n",
    "        input_size = self.env.observation_space.shape[0]\n",
    "        action_size = self.env.action_space.n\n",
    "        self.batch_size = batch_size\n",
    "        self.gamma = 1.0\n",
    "        self.epsilon = 1.0\n",
    "        self.epsilon_min = 0.01\n",
    "        self.epsilon_decay = 0.995\n",
    "        alpha=0.01\n",
    "        alpha_decay=0.01\n",
    "        \n",
    "       \n",
    "        \n",
    "        alpha=0.01\n",
    "        alpha_decay=0.01\n",
    "              \n",
    "        # Init model\n",
    "        self.model = Sequential()\n",
    "        self.model.add(Dense(16, input_dim=8, kernel_initializer=initializers.RandomNormal(stddev=0.02)))\n",
    "        self.model.add(LeakyReLU(0.2))\n",
    "        self.model.add(Dropout(0.3))\n",
    "        self.model.add(Dense(action_size, activation='linear'))\n",
    "        self.model.compile(loss='mse', optimizer=Adam(lr=alpha, decay=alpha_decay))\n",
    "        self.model_target = tf.keras.models.clone_model(self.model)\n",
    "\n",
    "    def remember(self, state, action, reward, next_state, done):\n",
    "        self.memory.append((state,action, reward, next_state, done))\n",
    "        \n",
    "    def choose_action(self, state, epsilon):\n",
    "        if np.random.random() <= epsilon:\n",
    "            return self.env.action_space.sample()\n",
    "        else:\n",
    "            return np.argmax(self.model.predict(state))\n",
    "\n",
    "\n",
    "\n",
    "\n",
    "    def replay(self, batch_size):\n",
    "        x_batch, y_batch = [], []\n",
    "        minibatch = random.sample(self.memory, min(len(self.memory), batch_size))\n",
    "        for state, action, reward, next_state, done in minibatch:\n",
    "            y_target = self.model_target.predict(state)\n",
    "            y_target[0][action] = reward if done else reward + self.gamma * np.max(self.model.predict(next_state)[0])\n",
    "            x_batch.append(state[0])\n",
    "            y_batch.append(y_target[0])\n",
    "        \n",
    "        self.model.fit(np.array(x_batch), np.array(y_batch), batch_size=len(x_batch), verbose=0)\n",
    "        #epsilon = max(epsilon_min, epsilon_decay*epsilon) # decrease epsilon\n",
    "       \n",
    "\n",
    "    def train(self):\n",
    "        scores = deque(maxlen=100)\n",
    "        avg_scores = []\n",
    "        \n",
    "\n",
    "        for e in range(EPOCHS):\n",
    "            state = self.env.reset()\n",
    "            done = False\n",
    "            i = 0\n",
    "            while not done:\n",
    "                action = self.choose_action(state,self.epsilon)\n",
    "                next_state, reward, done, _ = self.env.step(action)\n",
    "                #print(reward,done)\n",
    "                self.remember(state, action, reward, next_state, done)\n",
    "                state = next_state\n",
    "                self.epsilon = max(self.epsilon_min, self.epsilon_decay*self.epsilon) # decrease epsilon\n",
    "                i += reward\n",
    "\n",
    "            scores.append(i)\n",
    "            mean_score = np.mean(scores)\n",
    "            avg_scores.append(mean_score)\n",
    "            #if mean_score >= 8:\n",
    "            #    print('Solved after {} trials ✔'.format(e))\n",
    "                #return avg_scores\n",
    "            if e % 10 == 0:\n",
    "                print('[Episode {}] - Average Score: {}.'.format(e, mean_score))\n",
    "                self.model_target.set_weights(self.model.get_weights())\n",
    "\n",
    "            self.replay(self.batch_size)\n",
    "        \n",
    "        #print('Did not solve after {} episodes 😞'.format(e))\n",
    "        return avg_scores"
   ]
  },
  {
   "cell_type": "code",
   "execution_count": 23,
   "metadata": {},
   "outputs": [
    {
     "name": "stdout",
     "output_type": "stream",
     "text": [
      "Model: \"sequential_2\"\n",
      "_________________________________________________________________\n",
      "Layer (type)                 Output Shape              Param #   \n",
      "=================================================================\n",
      "dense_4 (Dense)              (None, 16)                144       \n",
      "_________________________________________________________________\n",
      "leaky_re_lu_2 (LeakyReLU)    (None, 16)                0         \n",
      "_________________________________________________________________\n",
      "dropout_1 (Dropout)          (None, 16)                0         \n",
      "_________________________________________________________________\n",
      "dense_5 (Dense)              (None, 2)                 34        \n",
      "=================================================================\n",
      "Total params: 178\n",
      "Trainable params: 178\n",
      "Non-trainable params: 0\n",
      "_________________________________________________________________\n"
     ]
    }
   ],
   "source": [
    "agent = DQN()\n",
    "agent.model.summary()"
   ]
  },
  {
   "cell_type": "code",
   "execution_count": 24,
   "metadata": {},
   "outputs": [
    {
     "name": "stdout",
     "output_type": "stream",
     "text": [
      "Model: \"sequential_2\"\n",
      "_________________________________________________________________\n",
      "Layer (type)                 Output Shape              Param #   \n",
      "=================================================================\n",
      "dense_4 (Dense)              (None, 16)                144       \n",
      "_________________________________________________________________\n",
      "leaky_re_lu_2 (LeakyReLU)    (None, 16)                0         \n",
      "_________________________________________________________________\n",
      "dropout_1 (Dropout)          (None, 16)                0         \n",
      "_________________________________________________________________\n",
      "dense_5 (Dense)              (None, 2)                 34        \n",
      "=================================================================\n",
      "Total params: 178\n",
      "Trainable params: 178\n",
      "Non-trainable params: 0\n",
      "_________________________________________________________________\n"
     ]
    }
   ],
   "source": [
    "agent.model_target.summary()"
   ]
  },
  {
   "cell_type": "code",
   "execution_count": 25,
   "metadata": {},
   "outputs": [
    {
     "name": "stdout",
     "output_type": "stream",
     "text": [
      "[Episode 0] - Average Score: 55.0.\n",
      "[Episode 10] - Average Score: 90.72727272727273.\n",
      "[Episode 20] - Average Score: 94.95238095238095.\n",
      "[Episode 30] - Average Score: 96.54838709677419.\n",
      "[Episode 40] - Average Score: 97.34146341463415.\n",
      "[Episode 50] - Average Score: 97.76470588235294.\n",
      "[Episode 60] - Average Score: 98.0327868852459.\n",
      "[Episode 70] - Average Score: 98.21126760563381.\n",
      "[Episode 80] - Average Score: 98.32098765432099.\n",
      "[Episode 90] - Average Score: 98.47252747252747.\n",
      "[Episode 100] - Average Score: 99.02.\n",
      "[Episode 110] - Average Score: 99.56.\n",
      "[Episode 120] - Average Score: 99.55.\n",
      "[Episode 130] - Average Score: 99.55.\n",
      "[Episode 140] - Average Score: 99.53.\n",
      "[Episode 150] - Average Score: 99.55.\n",
      "[Episode 160] - Average Score: 99.58.\n",
      "[Episode 170] - Average Score: 99.61.\n",
      "[Episode 180] - Average Score: 99.65.\n",
      "[Episode 190] - Average Score: 99.59.\n",
      "Did not solve after 199 episodes 😞\n"
     ]
    }
   ],
   "source": [
    "EPOCHS = 200\n",
    "scores = agent.train()"
   ]
  },
  {
   "cell_type": "code",
   "execution_count": 26,
   "metadata": {},
   "outputs": [
    {
     "data": {
      "image/png": "[encoded data removed]",
      "text/plain": [
       "<Figure size 432x288 with 1 Axes>"
      ]
     },
     "metadata": {
      "needs_background": "light"
     },
     "output_type": "display_data"
    }
   ],
   "source": [
    "import matplotlib.pyplot as plt\n",
    "plt.plot(scores)\n",
    "plt.show()"
   ]
  },
  {
   "cell_type": "code",
   "execution_count": 31,
   "metadata": {},
   "outputs": [],
   "source": [
    "dff = pd.DataFrame(list(zip(dLosses, gLosses)), columns=['DLoss', 'GLoss'])"
   ]
  },
  {
   "cell_type": "code",
   "execution_count": 32,
   "metadata": {},
   "outputs": [
    {
     "data": {
      "text/html": [
       "<div>\n",
       "<style scoped>\n",
       "    .dataframe tbody tr th:only-of-type {\n",
       "        vertical-align: middle;\n",
       "    }\n",
       "\n",
       "    .dataframe tbody tr th {\n",
       "        vertical-align: top;\n",
       "    }\n",
       "\n",
       "    .dataframe thead th {\n",
       "        text-align: right;\n",
       "    }\n",
       "</style>\n",
       "<table border=\"1\" class=\"dataframe\">\n",
       "  <thead>\n",
       "    <tr style=\"text-align: right;\">\n",
       "      <th></th>\n",
       "      <th>DLoss</th>\n",
       "      <th>GLoss</th>\n",
       "    </tr>\n",
       "  </thead>\n",
       "  <tbody>\n",
       "    <tr>\n",
       "      <th>0</th>\n",
       "      <td>0.578392</td>\n",
       "      <td>1.001692</td>\n",
       "    </tr>\n",
       "    <tr>\n",
       "      <th>1</th>\n",
       "      <td>0.668881</td>\n",
       "      <td>0.807068</td>\n",
       "    </tr>\n",
       "    <tr>\n",
       "      <th>2</th>\n",
       "      <td>0.672729</td>\n",
       "      <td>0.826936</td>\n",
       "    </tr>\n",
       "    <tr>\n",
       "      <th>3</th>\n",
       "      <td>0.673578</td>\n",
       "      <td>0.803506</td>\n",
       "    </tr>\n",
       "    <tr>\n",
       "      <th>4</th>\n",
       "      <td>0.670208</td>\n",
       "      <td>0.825282</td>\n",
       "    </tr>\n",
       "  </tbody>\n",
       "</table>\n",
       "</div>"
      ],
      "text/plain": [
       "      DLoss     GLoss\n",
       "0  0.578392  1.001692\n",
       "1  0.668881  0.807068\n",
       "2  0.672729  0.826936\n",
       "3  0.673578  0.803506\n",
       "4  0.670208  0.825282"
      ]
     },
     "execution_count": 32,
     "metadata": {},
     "output_type": "execute_result"
    }
   ],
   "source": [
    "dff.head()"
   ]
  },
  {
   "cell_type": "code",
   "execution_count": 33,
   "metadata": {},
   "outputs": [],
   "source": [
    "dff.to_csv('ganLosses.csv', encoding='utf-8', index=False)"
   ]
  },
  {
   "cell_type": "code",
   "execution_count": 35,
   "metadata": {},
   "outputs": [],
   "source": [
    "dff_rl = pd.DataFrame(scores, columns=['RLScore'])"
   ]
  },
  {
   "cell_type": "code",
   "execution_count": 36,
   "metadata": {},
   "outputs": [
    {
     "data": {
      "text/html": [
       "<div>\n",
       "<style scoped>\n",
       "    .dataframe tbody tr th:only-of-type {\n",
       "        vertical-align: middle;\n",
       "    }\n",
       "\n",
       "    .dataframe tbody tr th {\n",
       "        vertical-align: top;\n",
       "    }\n",
       "\n",
       "    .dataframe thead th {\n",
       "        text-align: right;\n",
       "    }\n",
       "</style>\n",
       "<table border=\"1\" class=\"dataframe\">\n",
       "  <thead>\n",
       "    <tr style=\"text-align: right;\">\n",
       "      <th></th>\n",
       "      <th>RLScore</th>\n",
       "    </tr>\n",
       "  </thead>\n",
       "  <tbody>\n",
       "    <tr>\n",
       "      <th>0</th>\n",
       "      <td>55.000000</td>\n",
       "    </tr>\n",
       "    <tr>\n",
       "      <th>1</th>\n",
       "      <td>65.500000</td>\n",
       "    </tr>\n",
       "    <tr>\n",
       "      <th>2</th>\n",
       "      <td>72.333333</td>\n",
       "    </tr>\n",
       "    <tr>\n",
       "      <th>3</th>\n",
       "      <td>76.750000</td>\n",
       "    </tr>\n",
       "    <tr>\n",
       "      <th>4</th>\n",
       "      <td>80.400000</td>\n",
       "    </tr>\n",
       "  </tbody>\n",
       "</table>\n",
       "</div>"
      ],
      "text/plain": [
       "     RLScore\n",
       "0  55.000000\n",
       "1  65.500000\n",
       "2  72.333333\n",
       "3  76.750000\n",
       "4  80.400000"
      ]
     },
     "execution_count": 36,
     "metadata": {},
     "output_type": "execute_result"
    }
   ],
   "source": [
    "dff_rl.head()"
   ]
  },
  {
   "cell_type": "code",
   "execution_count": 37,
   "metadata": {},
   "outputs": [],
   "source": [
    "dff_rl.to_csv('rl_score.csv', encoding='utf-8', index=False)"
   ]
  },
  {
   "cell_type": "code",
   "execution_count": 38,
   "metadata": {},
   "outputs": [
    {
     "name": "stdout",
     "output_type": "stream",
     "text": [
      "WARNING:tensorflow:From /home/am/anaconda3/envs/tf2p0/lib/python3.7/site-packages/tensorflow_core/python/ops/resource_variable_ops.py:1781: calling BaseResourceVariable.__init__ (from tensorflow.python.ops.resource_variable_ops) with constraint is deprecated and will be removed in a future version.\n",
      "Instructions for updating:\n",
      "If using Keras pass *_constraint arguments to layers.\n",
      "INFO:tensorflow:Assets written to: rl_agent_model/assets\n"
     ]
    }
   ],
   "source": [
    "agent.model.save(\"rl_agent_model\")"
   ]
  },
  {
   "cell_type": "code",
   "execution_count": 39,
   "metadata": {},
   "outputs": [
    {
     "name": "stdout",
     "output_type": "stream",
     "text": [
      "INFO:tensorflow:Assets written to: GAN_generator/assets\n"
     ]
    }
   ],
   "source": [
    "generator.save(\"GAN_generator\")"
   ]
  },
  {
   "cell_type": "code",
   "execution_count": 40,
   "metadata": {},
   "outputs": [
    {
     "name": "stdout",
     "output_type": "stream",
     "text": [
      "INFO:tensorflow:Assets written to: GAN_discriminator/assets\n"
     ]
    }
   ],
   "source": [
    "discriminator.save(\"GAN_discriminator\")"
   ]
  },
  {
   "cell_type": "code",
   "execution_count": 45,
   "metadata": {},
   "outputs": [],
   "source": [
    "y_pred = agent.choose_action(X[0],1)"
   ]
  },
  {
   "cell_type": "code",
   "execution_count": 46,
   "metadata": {},
   "outputs": [
    {
     "data": {
      "text/plain": [
       "0"
      ]
     },
     "execution_count": 46,
     "metadata": {},
     "output_type": "execute_result"
    }
   ],
   "source": [
    "y_pred"
   ]
  },
  {
   "cell_type": "code",
   "execution_count": 47,
   "metadata": {},
   "outputs": [
    {
     "data": {
      "text/plain": [
       "array([0.385, 0.541, 0.005, 0.002, 0.003, 0.004, 0.061, 0.   ],\n",
       "      dtype=float32)"
      ]
     },
     "execution_count": 47,
     "metadata": {},
     "output_type": "execute_result"
    }
   ],
   "source": [
    "X[0]"
   ]
  },
  {
   "cell_type": "code",
   "execution_count": 48,
   "metadata": {},
   "outputs": [],
   "source": [
    "y_pred = [agent.choose_action(X[i],1) for i in range(len(X))]"
   ]
  },
  {
   "cell_type": "code",
   "execution_count": 50,
   "metadata": {},
   "outputs": [],
   "source": [
    "y_true = [X[i,-1] for i in range(len(X)) ]"
   ]
  },
  {
   "cell_type": "code",
   "execution_count": 53,
   "metadata": {},
   "outputs": [
    {
     "data": {
      "text/plain": [
       "0.4994325453360056"
      ]
     },
     "execution_count": 53,
     "metadata": {},
     "output_type": "execute_result"
    }
   ],
   "source": [
    "accuracy_score(y_true, y_pred)"
   ]
  },
  {
   "cell_type": "code",
   "execution_count": 54,
   "metadata": {},
   "outputs": [
    {
     "data": {
      "text/plain": [
       "<AxesSubplot:>"
      ]
     },
     "execution_count": 54,
     "metadata": {},
     "output_type": "execute_result"
    },
    {
     "data": {
      "image/png": "[encoded data removed]",
      "text/plain": [
       "<Figure size 432x288 with 2 Axes>"
      ]
     },
     "metadata": {
      "needs_background": "light"
     },
     "output_type": "display_data"
    }
   ],
   "source": [
    "sns.heatmap(confusion_matrix(y_true, y_pred), annot=True, fmt=\"d\",\n",
    "        xticklabels= list(set(df.label.values)),\n",
    "        yticklabels=list(set(df.label.values)))"
   ]
  },
  {
   "cell_type": "code",
   "execution_count": null,
   "metadata": {},
   "outputs": [],
   "source": []
  }
 ],
 "metadata": {
  "kernelspec": {
   "display_name": "Python [conda env:tf2p0]",
   "language": "python",
   "name": "conda-env-tf2p0-py"
  },
  "language_info": {
   "codemirror_mode": {
    "name": "ipython",
    "version": 3
   },
   "file_extension": ".py",
   "mimetype": "text/x-python",
   "name": "python",
   "nbconvert_exporter": "python",
   "pygments_lexer": "ipython3",
   "version": "3.7.9"
  }
 },
 "nbformat": 4,
 "nbformat_minor": 2
}
